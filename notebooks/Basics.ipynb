{
 "cells": [
  {
   "cell_type": "markdown",
   "metadata": {},
   "source": [
    "## 1) Python ist ein Taschenrechner"
   ]
  },
  {
   "cell_type": "code",
   "execution_count": 2,
   "metadata": {},
   "outputs": [],
   "source": [
    "import numpy as np"
   ]
  },
  {
   "cell_type": "code",
   "execution_count": 3,
   "metadata": {},
   "outputs": [
    {
     "data": {
      "text/plain": [
       "6"
      ]
     },
     "execution_count": 3,
     "metadata": {},
     "output_type": "execute_result"
    }
   ],
   "source": [
    "(1 + 1) * 3"
   ]
  },
  {
   "cell_type": "code",
   "execution_count": 4,
   "metadata": {},
   "outputs": [
    {
     "data": {
      "text/plain": [
       "0.7071067811865476"
      ]
     },
     "execution_count": 4,
     "metadata": {},
     "output_type": "execute_result"
    }
   ],
   "source": [
    "np.sin(np.pi / 4)"
   ]
  },
  {
   "cell_type": "code",
   "execution_count": 5,
   "metadata": {},
   "outputs": [
    {
     "data": {
      "text/plain": [
       "5.0"
      ]
     },
     "execution_count": 5,
     "metadata": {},
     "output_type": "execute_result"
    }
   ],
   "source": [
    "# Das ist ein Kommentar\n",
    "# Der Operator a**b berechnet \"a hoch b\"\n",
    "np.sqrt(3**2 + 4**2)"
   ]
  },
  {
   "cell_type": "markdown",
   "metadata": {},
   "source": [
    "## 2) Variablen"
   ]
  },
  {
   "cell_type": "code",
   "execution_count": 6,
   "metadata": {},
   "outputs": [
    {
     "data": {
      "text/plain": [
       "30.10666666666667"
      ]
     },
     "execution_count": 6,
     "metadata": {},
     "output_type": "execute_result"
    }
   ],
   "source": [
    "# Zur Übersichtlichkeit können wir Zwischenergebnisse in Variablen speichern:\n",
    "strecke = 3.8 + 180 + 42 #Triathlon (Schwimmen, Fahrrad, Laufen)\n",
    "zeit = 0.75 + 4 + 2.75 #Jan Frodeno\n",
    "geschwindigkeit = strecke / zeit\n",
    "geschwindigkeit"
   ]
  },
  {
   "cell_type": "code",
   "execution_count": 7,
   "metadata": {},
   "outputs": [
    {
     "name": "stdout",
     "output_type": "stream",
     "text": [
      "True 3 Hallo\n"
     ]
    }
   ],
   "source": [
    "# Variablen haben verschiedene Typen\n",
    "wahrheit = True\n",
    "zahl = 3\n",
    "text = \"Hallo\"\n",
    "print(wahrheit, zahl, text)"
   ]
  },
  {
   "cell_type": "code",
   "execution_count": 8,
   "metadata": {},
   "outputs": [
    {
     "name": "stdout",
     "output_type": "stream",
     "text": [
      "True\n",
      "3\n",
      "Hallo\n"
     ]
    }
   ],
   "source": [
    "# Wir können Variablen in Listen speichern\n",
    "liste = [wahrheit, zahl, text]\n",
    "# Auf Listenelemente können wir mit [index] zugreifen\n",
    "# Achtung: das erste Element hat Index 0!\n",
    "print(liste[0])\n",
    "print(liste[1])\n",
    "print(liste[2])"
   ]
  },
  {
   "cell_type": "markdown",
   "metadata": {},
   "source": [
    "## 3) Bedingungen\n",
    "```\n",
    "if bedingung:\n",
    "    Anweisung()\n",
    "elif bedingung2:\n",
    "    Anweisung2()\n",
    "else:\n",
    "    AndereAnweisung()\n",
    "```"
   ]
  },
  {
   "cell_type": "code",
   "execution_count": 9,
   "metadata": {},
   "outputs": [
    {
     "data": {
      "text/plain": [
       "'negativ'"
      ]
     },
     "execution_count": 9,
     "metadata": {},
     "output_type": "execute_result"
    }
   ],
   "source": [
    "# mit if können wir Entscheidungen treffen\n",
    "zahl = -1\n",
    "if zahl < 0:\n",
    "    text = \"negativ\"\n",
    "else:\n",
    "    text = \"positiv\"\n",
    "text"
   ]
  },
  {
   "cell_type": "code",
   "execution_count": 10,
   "metadata": {},
   "outputs": [
    {
     "name": "stdout",
     "output_type": "stream",
     "text": [
      "nicht drei\n"
     ]
    }
   ],
   "source": [
    "# Mögliche Operatoren: <, <=, ==, >=, >, not\n",
    "# Achtung: \n",
    "# Ein einzelnes = nutzen wir für eine Zuweisung (zahl = 1).\n",
    "# Für einen Vergleich verwenden wir immer == (if zahl == 1)\n",
    "zahl = 2\n",
    "if zahl == 1:\n",
    "    print(\"eins\")\n",
    "if not (zahl == 3):\n",
    "    print(\"nicht drei\")"
   ]
  },
  {
   "cell_type": "markdown",
   "metadata": {},
   "source": [
    "## 4) Wiederholungen\n",
    "```\n",
    "for i in range(10):\n",
    "    Anweisung(i)\n",
    "```"
   ]
  },
  {
   "cell_type": "code",
   "execution_count": 11,
   "metadata": {},
   "outputs": [
    {
     "name": "stdout",
     "output_type": "stream",
     "text": [
      "0\n",
      "1\n",
      "2\n",
      "3\n",
      "4\n"
     ]
    }
   ],
   "source": [
    "for i in range(5):\n",
    "    print(i)"
   ]
  },
  {
   "cell_type": "code",
   "execution_count": 12,
   "metadata": {},
   "outputs": [
    {
     "data": {
      "text/plain": [
       "165"
      ]
     },
     "execution_count": 12,
     "metadata": {},
     "output_type": "execute_result"
    }
   ],
   "source": [
    "# Berechne die Summe aller Zahlen von 10 bis 20\n",
    "summe = 0\n",
    "for i in range(10, 21):\n",
    "    summe = summe + i\n",
    "summe"
   ]
  },
  {
   "cell_type": "markdown",
   "metadata": {},
   "source": [
    "## 5) Funktionen\n",
    "```\n",
    "def function(parameter):\n",
    "    TuWasMitParameter\n",
    "```"
   ]
  },
  {
   "cell_type": "code",
   "execution_count": 13,
   "metadata": {},
   "outputs": [
    {
     "name": "stdout",
     "output_type": "stream",
     "text": [
      "Hallo Sebastian\n",
      "Hallo Fabian\n"
     ]
    }
   ],
   "source": [
    "# Häufig genutzte Teile können wir in Funktionen auslagern\n",
    "def hallo(name):\n",
    "    print(\"Hallo\", name)\n",
    "hallo(\"Sebastian\")\n",
    "hallo(\"Fabian\")"
   ]
  },
  {
   "cell_type": "code",
   "execution_count": 14,
   "metadata": {},
   "outputs": [
    {
     "name": "stdout",
     "output_type": "stream",
     "text": [
      "Hola Fabian\n",
      "Hallo Sebastian\n"
     ]
    }
   ],
   "source": [
    "def international(name, sprache):\n",
    "    if sprache == \"Englisch\":\n",
    "        print(\"Hello\", name)\n",
    "    elif sprache == \"Deutsch\":\n",
    "        print(\"Hallo\", name)\n",
    "    elif sprache == \"Spanisch\":\n",
    "        print(\"Hola\", name)\n",
    "    else:\n",
    "        print(\"I don't know your language :/\")\n",
    "\n",
    "international(\"Fabian\", \"Spanisch\")\n",
    "international(\"Sebastian\", \"Deutsch\")"
   ]
  },
  {
   "cell_type": "markdown",
   "metadata": {},
   "source": [
    "## 6) Schaltjahre\n",
    "Aufgabe: Schreibe eine Funktion, die überprüft, ob ein Jahr ein Schaltjahr ist und finde für die Jahre zwischen 1990 und 2030 heraus, welches ein Schaltjahr ist und welches nicht.\n",
    "\n",
    "Algorithmus: https://de.wikipedia.org/wiki/Schaltjahr#Gregorianischer_Kalender    \n",
    "\n",
    "Tipp: StackOverFlow"
   ]
  },
  {
   "cell_type": "code",
   "execution_count": 15,
   "metadata": {},
   "outputs": [],
   "source": [
    "def ist_schaltjahr(jahr):\n",
    "    return False"
   ]
  },
  {
   "cell_type": "code",
   "execution_count": 16,
   "metadata": {},
   "outputs": [],
   "source": [
    "# Überprüfe die Jahre 1990 bis 2030"
   ]
  },
  {
   "cell_type": "markdown",
   "metadata": {},
   "source": [
    "## 7) Primzahlen\n",
    "Aufgabe: Überprüfe für die Zahlen 1 bis 20, ob es sich jeweils um eine Primzahl handelt"
   ]
  },
  {
   "cell_type": "code",
   "execution_count": 17,
   "metadata": {},
   "outputs": [
    {
     "name": "stdout",
     "output_type": "stream",
     "text": [
      "True\n"
     ]
    }
   ],
   "source": [
    "def prime(number):\n",
    "    if number<2:\n",
    "        return False\n",
    "    for i in range(2, number//2+1, 1):\n",
    "        if number%i==0:\n",
    "            return False\n",
    "    return True\n",
    "\n",
    "print(prime(19))\n",
    "        "
   ]
  }
 ],
 "metadata": {
  "interpreter": {
   "hash": "4d9defa72c2715dab9f7f172572cd30a1ab1a2083462d32ef96aadb7c6e0c73b"
  },
  "kernelspec": {
   "display_name": "Python 3.9.12 ('base')",
   "language": "python",
   "name": "python3"
  },
  "language_info": {
   "codemirror_mode": {
    "name": "ipython",
    "version": 3
   },
   "file_extension": ".py",
   "mimetype": "text/x-python",
   "name": "python",
   "nbconvert_exporter": "python",
   "pygments_lexer": "ipython3",
   "version": "3.9.12"
  }
 },
 "nbformat": 4,
 "nbformat_minor": 4
}
